{
 "cells": [
  {
   "cell_type": "code",
   "execution_count": 3,
   "metadata": {},
   "outputs": [],
   "source": [
    "from run_vad import run_vad\n",
    "import soundfile as sf"
   ]
  },
  {
   "cell_type": "code",
   "execution_count": 4,
   "metadata": {},
   "outputs": [],
   "source": [
    "x, sf = sf.read('output.wav')"
   ]
  },
  {
   "cell_type": "code",
   "execution_count": 7,
   "metadata": {},
   "outputs": [
    {
     "name": "stderr",
     "output_type": "stream",
     "text": [
      "Using cache found in /Users/fujie/.cache/torch/hub/snakers4_silero-vad_master\n"
     ]
    },
    {
     "data": {
      "text/plain": [
       "[[(1.09, 2.08),\n",
       "  (2.61, 3.44),\n",
       "  (8.53, 10.32),\n",
       "  (12.25, 12.68),\n",
       "  (12.93, 13.48),\n",
       "  (17.57, 18.2),\n",
       "  (19.89, 20.76),\n",
       "  (20.89, 22.0),\n",
       "  (22.21, 22.64),\n",
       "  (22.97, 23.44),\n",
       "  (24.01, 26.84),\n",
       "  (27.37, 30.18)],\n",
       " [(1.09, 2.12),\n",
       "  (3.09, 3.96),\n",
       "  (5.09, 6.4),\n",
       "  (6.45, 9.44),\n",
       "  (10.61, 11.68),\n",
       "  (11.93, 13.04),\n",
       "  (14.01, 14.92),\n",
       "  (15.73, 16.2),\n",
       "  (16.17, 17.88),\n",
       "  (18.21, 20.6),\n",
       "  (23.65, 24.56),\n",
       "  (26.49, 27.16),\n",
       "  (27.53, 28.2),\n",
       "  (29.29, 30.18)]]"
      ]
     },
     "execution_count": 7,
     "metadata": {},
     "output_type": "execute_result"
    }
   ],
   "source": [
    "run_vad(x)"
   ]
  }
 ],
 "metadata": {
  "kernelspec": {
   "display_name": "base",
   "language": "python",
   "name": "python3"
  },
  "language_info": {
   "codemirror_mode": {
    "name": "ipython",
    "version": 3
   },
   "file_extension": ".py",
   "mimetype": "text/x-python",
   "name": "python",
   "nbconvert_exporter": "python",
   "pygments_lexer": "ipython3",
   "version": "3.11.5"
  }
 },
 "nbformat": 4,
 "nbformat_minor": 2
}
